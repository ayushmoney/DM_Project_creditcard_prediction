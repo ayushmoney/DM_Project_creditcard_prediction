{
  "cells": [
    {
      "metadata": {
        "trusted": true
      },
      "cell_type": "code",
      "source": "import numpy as np\nimport pandas as pd\nimport matplotlib.pyplot as plt\nimport seaborn as sns\nimport os\nimport sys\n%matplotlib inline\nimport warnings\nwarnings.filterwarnings('ignore')",
      "execution_count": 13,
      "outputs": []
    },
    {
      "metadata": {
        "trusted": true
      },
      "cell_type": "code",
      "source": "dataset = pd.read_csv('default of credit card clients.csv')\ndataset = dataset.sample(n=2000,replace =False,random_state=1)",
      "execution_count": 14,
      "outputs": []
    },
    {
      "metadata": {
        "trusted": true
      },
      "cell_type": "code",
      "source": "dataset.head(5)",
      "execution_count": 15,
      "outputs": [
        {
          "output_type": "execute_result",
          "execution_count": 15,
          "data": {
            "text/plain": "          ID  LIMIT_BAL  SEX  EDUCATION  MARRIAGE  AGE  PAY_0  PAY_2  PAY_3  \\\n10747  10748     310000    1          3         1   32      0      0      0   \n12573  12574      10000    2          3         1   49     -1     -1     -2   \n29676  29677      50000    1          2         1   28     -1     -1     -1   \n8856    8857      80000    2          3         1   52      2      2      3   \n21098  21099     270000    1          1         2   34      1      2      0   \n\n       PAY_4             ...              BILL_AMT4  BILL_AMT5  BILL_AMT6  \\\n10747      0             ...                  84373      57779      14163   \n12573     -1             ...                   1690       1138        930   \n29676      0             ...                  45975       1300      43987   \n8856       3             ...                  40748      39816      40607   \n21098      0             ...                  22448      15490      17343   \n\n       PAY_AMT1  PAY_AMT2  PAY_AMT3  PAY_AMT4  PAY_AMT5  PAY_AMT6  \\\n10747      8295      6000      4000      3000      1000      2000   \n12573         0         0      2828         0       182         0   \n29676         0     46257      2200      1300     43987      1386   \n8856       3700      1600      1600         0      1600      1600   \n21098         0      4000      2000         0      2000      2000   \n\n       default payment next month  \n10747                           0  \n12573                           1  \n29676                           0  \n8856                            1  \n21098                           0  \n\n[5 rows x 25 columns]",
            "text/html": "<div>\n<style scoped>\n    .dataframe tbody tr th:only-of-type {\n        vertical-align: middle;\n    }\n\n    .dataframe tbody tr th {\n        vertical-align: top;\n    }\n\n    .dataframe thead th {\n        text-align: right;\n    }\n</style>\n<table border=\"1\" class=\"dataframe\">\n  <thead>\n    <tr style=\"text-align: right;\">\n      <th></th>\n      <th>ID</th>\n      <th>LIMIT_BAL</th>\n      <th>SEX</th>\n      <th>EDUCATION</th>\n      <th>MARRIAGE</th>\n      <th>AGE</th>\n      <th>PAY_0</th>\n      <th>PAY_2</th>\n      <th>PAY_3</th>\n      <th>PAY_4</th>\n      <th>...</th>\n      <th>BILL_AMT4</th>\n      <th>BILL_AMT5</th>\n      <th>BILL_AMT6</th>\n      <th>PAY_AMT1</th>\n      <th>PAY_AMT2</th>\n      <th>PAY_AMT3</th>\n      <th>PAY_AMT4</th>\n      <th>PAY_AMT5</th>\n      <th>PAY_AMT6</th>\n      <th>default payment next month</th>\n    </tr>\n  </thead>\n  <tbody>\n    <tr>\n      <th>10747</th>\n      <td>10748</td>\n      <td>310000</td>\n      <td>1</td>\n      <td>3</td>\n      <td>1</td>\n      <td>32</td>\n      <td>0</td>\n      <td>0</td>\n      <td>0</td>\n      <td>0</td>\n      <td>...</td>\n      <td>84373</td>\n      <td>57779</td>\n      <td>14163</td>\n      <td>8295</td>\n      <td>6000</td>\n      <td>4000</td>\n      <td>3000</td>\n      <td>1000</td>\n      <td>2000</td>\n      <td>0</td>\n    </tr>\n    <tr>\n      <th>12573</th>\n      <td>12574</td>\n      <td>10000</td>\n      <td>2</td>\n      <td>3</td>\n      <td>1</td>\n      <td>49</td>\n      <td>-1</td>\n      <td>-1</td>\n      <td>-2</td>\n      <td>-1</td>\n      <td>...</td>\n      <td>1690</td>\n      <td>1138</td>\n      <td>930</td>\n      <td>0</td>\n      <td>0</td>\n      <td>2828</td>\n      <td>0</td>\n      <td>182</td>\n      <td>0</td>\n      <td>1</td>\n    </tr>\n    <tr>\n      <th>29676</th>\n      <td>29677</td>\n      <td>50000</td>\n      <td>1</td>\n      <td>2</td>\n      <td>1</td>\n      <td>28</td>\n      <td>-1</td>\n      <td>-1</td>\n      <td>-1</td>\n      <td>0</td>\n      <td>...</td>\n      <td>45975</td>\n      <td>1300</td>\n      <td>43987</td>\n      <td>0</td>\n      <td>46257</td>\n      <td>2200</td>\n      <td>1300</td>\n      <td>43987</td>\n      <td>1386</td>\n      <td>0</td>\n    </tr>\n    <tr>\n      <th>8856</th>\n      <td>8857</td>\n      <td>80000</td>\n      <td>2</td>\n      <td>3</td>\n      <td>1</td>\n      <td>52</td>\n      <td>2</td>\n      <td>2</td>\n      <td>3</td>\n      <td>3</td>\n      <td>...</td>\n      <td>40748</td>\n      <td>39816</td>\n      <td>40607</td>\n      <td>3700</td>\n      <td>1600</td>\n      <td>1600</td>\n      <td>0</td>\n      <td>1600</td>\n      <td>1600</td>\n      <td>1</td>\n    </tr>\n    <tr>\n      <th>21098</th>\n      <td>21099</td>\n      <td>270000</td>\n      <td>1</td>\n      <td>1</td>\n      <td>2</td>\n      <td>34</td>\n      <td>1</td>\n      <td>2</td>\n      <td>0</td>\n      <td>0</td>\n      <td>...</td>\n      <td>22448</td>\n      <td>15490</td>\n      <td>17343</td>\n      <td>0</td>\n      <td>4000</td>\n      <td>2000</td>\n      <td>0</td>\n      <td>2000</td>\n      <td>2000</td>\n      <td>0</td>\n    </tr>\n  </tbody>\n</table>\n<p>5 rows × 25 columns</p>\n</div>"
          },
          "metadata": {}
        }
      ]
    },
    {
      "metadata": {
        "trusted": true
      },
      "cell_type": "code",
      "source": "dataset.tail()",
      "execution_count": 16,
      "outputs": [
        {
          "output_type": "execute_result",
          "execution_count": 16,
          "data": {
            "text/plain": "          ID  LIMIT_BAL  SEX  EDUCATION  MARRIAGE  AGE  PAY_0  PAY_2  PAY_3  \\\n23295  23296     160000    2          1         2   25     -1      0     -1   \n15148  15149     250000    1          1         1   53     -2     -2     -2   \n18666  18667      50000    2          1         2   23     -1     -1     -2   \n3415    3416     200000    2          2         1   37      0      0      0   \n18714  18715     420000    2          1         2   28      0      0     -1   \n\n       PAY_4             ...              BILL_AMT4  BILL_AMT5  BILL_AMT6  \\\n23295     -1             ...                   2199      10856          0   \n15148     -2             ...                      0          0          0   \n18666     -2             ...                      0          0          0   \n3415       0             ...                 191730     171269     151550   \n18714      0             ...                  65592      57438      31029   \n\n       PAY_AMT1  PAY_AMT2  PAY_AMT3  PAY_AMT4  PAY_AMT5  PAY_AMT6  \\\n23295      1000     11426      2199     10000         0      9867   \n15148         0         0         0         0         0         0   \n18666         0         0         0         0         0         0   \n3415       8017      8000      8000      9000      7000      6000   \n18714      1010     64513      2420      1473      1062      1022   \n\n       default payment next month  \n23295                           0  \n15148                           1  \n18666                           0  \n3415                            0  \n18714                           0  \n\n[5 rows x 25 columns]",
            "text/html": "<div>\n<style scoped>\n    .dataframe tbody tr th:only-of-type {\n        vertical-align: middle;\n    }\n\n    .dataframe tbody tr th {\n        vertical-align: top;\n    }\n\n    .dataframe thead th {\n        text-align: right;\n    }\n</style>\n<table border=\"1\" class=\"dataframe\">\n  <thead>\n    <tr style=\"text-align: right;\">\n      <th></th>\n      <th>ID</th>\n      <th>LIMIT_BAL</th>\n      <th>SEX</th>\n      <th>EDUCATION</th>\n      <th>MARRIAGE</th>\n      <th>AGE</th>\n      <th>PAY_0</th>\n      <th>PAY_2</th>\n      <th>PAY_3</th>\n      <th>PAY_4</th>\n      <th>...</th>\n      <th>BILL_AMT4</th>\n      <th>BILL_AMT5</th>\n      <th>BILL_AMT6</th>\n      <th>PAY_AMT1</th>\n      <th>PAY_AMT2</th>\n      <th>PAY_AMT3</th>\n      <th>PAY_AMT4</th>\n      <th>PAY_AMT5</th>\n      <th>PAY_AMT6</th>\n      <th>default payment next month</th>\n    </tr>\n  </thead>\n  <tbody>\n    <tr>\n      <th>23295</th>\n      <td>23296</td>\n      <td>160000</td>\n      <td>2</td>\n      <td>1</td>\n      <td>2</td>\n      <td>25</td>\n      <td>-1</td>\n      <td>0</td>\n      <td>-1</td>\n      <td>-1</td>\n      <td>...</td>\n      <td>2199</td>\n      <td>10856</td>\n      <td>0</td>\n      <td>1000</td>\n      <td>11426</td>\n      <td>2199</td>\n      <td>10000</td>\n      <td>0</td>\n      <td>9867</td>\n      <td>0</td>\n    </tr>\n    <tr>\n      <th>15148</th>\n      <td>15149</td>\n      <td>250000</td>\n      <td>1</td>\n      <td>1</td>\n      <td>1</td>\n      <td>53</td>\n      <td>-2</td>\n      <td>-2</td>\n      <td>-2</td>\n      <td>-2</td>\n      <td>...</td>\n      <td>0</td>\n      <td>0</td>\n      <td>0</td>\n      <td>0</td>\n      <td>0</td>\n      <td>0</td>\n      <td>0</td>\n      <td>0</td>\n      <td>0</td>\n      <td>1</td>\n    </tr>\n    <tr>\n      <th>18666</th>\n      <td>18667</td>\n      <td>50000</td>\n      <td>2</td>\n      <td>1</td>\n      <td>2</td>\n      <td>23</td>\n      <td>-1</td>\n      <td>-1</td>\n      <td>-2</td>\n      <td>-2</td>\n      <td>...</td>\n      <td>0</td>\n      <td>0</td>\n      <td>0</td>\n      <td>0</td>\n      <td>0</td>\n      <td>0</td>\n      <td>0</td>\n      <td>0</td>\n      <td>0</td>\n      <td>0</td>\n    </tr>\n    <tr>\n      <th>3415</th>\n      <td>3416</td>\n      <td>200000</td>\n      <td>2</td>\n      <td>2</td>\n      <td>1</td>\n      <td>37</td>\n      <td>0</td>\n      <td>0</td>\n      <td>0</td>\n      <td>0</td>\n      <td>...</td>\n      <td>191730</td>\n      <td>171269</td>\n      <td>151550</td>\n      <td>8017</td>\n      <td>8000</td>\n      <td>8000</td>\n      <td>9000</td>\n      <td>7000</td>\n      <td>6000</td>\n      <td>0</td>\n    </tr>\n    <tr>\n      <th>18714</th>\n      <td>18715</td>\n      <td>420000</td>\n      <td>2</td>\n      <td>1</td>\n      <td>2</td>\n      <td>28</td>\n      <td>0</td>\n      <td>0</td>\n      <td>-1</td>\n      <td>0</td>\n      <td>...</td>\n      <td>65592</td>\n      <td>57438</td>\n      <td>31029</td>\n      <td>1010</td>\n      <td>64513</td>\n      <td>2420</td>\n      <td>1473</td>\n      <td>1062</td>\n      <td>1022</td>\n      <td>0</td>\n    </tr>\n  </tbody>\n</table>\n<p>5 rows × 25 columns</p>\n</div>"
          },
          "metadata": {}
        }
      ]
    },
    {
      "metadata": {
        "trusted": true
      },
      "cell_type": "code",
      "source": "dataset.info()",
      "execution_count": 17,
      "outputs": [
        {
          "output_type": "stream",
          "text": "<class 'pandas.core.frame.DataFrame'>\nInt64Index: 2000 entries, 10747 to 18714\nData columns (total 25 columns):\nID                            2000 non-null int64\nLIMIT_BAL                     2000 non-null int64\nSEX                           2000 non-null int64\nEDUCATION                     2000 non-null int64\nMARRIAGE                      2000 non-null int64\nAGE                           2000 non-null int64\nPAY_0                         2000 non-null int64\nPAY_2                         2000 non-null int64\nPAY_3                         2000 non-null int64\nPAY_4                         2000 non-null int64\nPAY_5                         2000 non-null int64\nPAY_6                         2000 non-null int64\nBILL_AMT1                     2000 non-null int64\nBILL_AMT2                     2000 non-null int64\nBILL_AMT3                     2000 non-null int64\nBILL_AMT4                     2000 non-null int64\nBILL_AMT5                     2000 non-null int64\nBILL_AMT6                     2000 non-null int64\nPAY_AMT1                      2000 non-null int64\nPAY_AMT2                      2000 non-null int64\nPAY_AMT3                      2000 non-null int64\nPAY_AMT4                      2000 non-null int64\nPAY_AMT5                      2000 non-null int64\nPAY_AMT6                      2000 non-null int64\ndefault payment next month    2000 non-null int64\ndtypes: int64(25)\nmemory usage: 406.2 KB\n",
          "name": "stdout"
        }
      ]
    },
    {
      "metadata": {
        "trusted": true
      },
      "cell_type": "code",
      "source": "dataset.describe()",
      "execution_count": 18,
      "outputs": [
        {
          "output_type": "execute_result",
          "execution_count": 18,
          "data": {
            "text/plain": "                 ID      LIMIT_BAL          SEX    EDUCATION     MARRIAGE  \\\ncount   2000.000000    2000.000000  2000.000000  2000.000000  2000.000000   \nmean   14950.749000  171825.000000     1.603000     1.853000     1.555000   \nstd     8624.251173  131598.930521     0.489398     0.798567     0.516825   \nmin        3.000000   10000.000000     1.000000     1.000000     0.000000   \n25%     7404.000000   60000.000000     1.000000     1.000000     1.000000   \n50%    14889.500000  140000.000000     2.000000     2.000000     2.000000   \n75%    22510.250000  250000.000000     2.000000     2.000000     2.000000   \nmax    29993.000000  730000.000000     2.000000     6.000000     3.000000   \n\n               AGE        PAY_0        PAY_2        PAY_3        PAY_4  \\\ncount  2000.000000  2000.000000  2000.000000  2000.000000  2000.000000   \nmean     35.458000    -0.024500    -0.138500    -0.179500    -0.213000   \nstd       9.144892     1.103861     1.163613     1.177698     1.166753   \nmin      21.000000    -2.000000    -2.000000    -2.000000    -2.000000   \n25%      28.000000    -1.000000    -1.000000    -1.000000    -1.000000   \n50%      34.000000     0.000000     0.000000     0.000000     0.000000   \n75%      41.000000     0.000000     0.000000     0.000000     0.000000   \nmax      71.000000     6.000000     5.000000     8.000000     7.000000   \n\n                  ...                  BILL_AMT4      BILL_AMT5  \\\ncount             ...                2000.000000    2000.000000   \nmean              ...               44390.095500   41502.586000   \nstd               ...               65827.281839   61928.132672   \nmin               ...              -81334.000000  -15306.000000   \n25%               ...                2939.500000    2158.750000   \n50%               ...               19454.000000   18652.000000   \n75%               ...               53394.250000   51005.500000   \nmax               ...              487066.000000  489200.000000   \n\n           BILL_AMT6       PAY_AMT1      PAY_AMT2       PAY_AMT3  \\\ncount    2000.000000    2000.000000  2.000000e+03    2000.000000   \nmean    39643.917000    5153.111500  6.362411e+03    6096.214000   \nstd     60472.016246   13065.162427  4.014712e+04   21880.625777   \nmin    -51443.000000       0.000000  0.000000e+00       0.000000   \n25%      1319.250000    1000.000000  9.947500e+02     445.500000   \n50%     17621.500000    2022.500000  2.031500e+03    1843.000000   \n75%     49484.750000    5000.000000  5.000000e+03    5000.000000   \nmax    513798.000000  276698.000000  1.684259e+06  400972.000000   \n\n            PAY_AMT4       PAY_AMT5       PAY_AMT6  default payment next month  \ncount    2000.000000    2000.000000    2000.000000                 2000.000000  \nmean     5091.073500    5043.292500    5738.555500                    0.219500  \nstd     16197.840731   16448.820691   21310.318739                    0.414011  \nmin         0.000000       0.000000       0.000000                    0.000000  \n25%       328.250000     260.250000     166.750000                    0.000000  \n50%      1597.500000    1500.000000    1464.000000                    0.000000  \n75%      4295.500000    4207.750000    4000.000000                    0.000000  \nmax    331788.000000  379267.000000  403500.000000                    1.000000  \n\n[8 rows x 25 columns]",
            "text/html": "<div>\n<style scoped>\n    .dataframe tbody tr th:only-of-type {\n        vertical-align: middle;\n    }\n\n    .dataframe tbody tr th {\n        vertical-align: top;\n    }\n\n    .dataframe thead th {\n        text-align: right;\n    }\n</style>\n<table border=\"1\" class=\"dataframe\">\n  <thead>\n    <tr style=\"text-align: right;\">\n      <th></th>\n      <th>ID</th>\n      <th>LIMIT_BAL</th>\n      <th>SEX</th>\n      <th>EDUCATION</th>\n      <th>MARRIAGE</th>\n      <th>AGE</th>\n      <th>PAY_0</th>\n      <th>PAY_2</th>\n      <th>PAY_3</th>\n      <th>PAY_4</th>\n      <th>...</th>\n      <th>BILL_AMT4</th>\n      <th>BILL_AMT5</th>\n      <th>BILL_AMT6</th>\n      <th>PAY_AMT1</th>\n      <th>PAY_AMT2</th>\n      <th>PAY_AMT3</th>\n      <th>PAY_AMT4</th>\n      <th>PAY_AMT5</th>\n      <th>PAY_AMT6</th>\n      <th>default payment next month</th>\n    </tr>\n  </thead>\n  <tbody>\n    <tr>\n      <th>count</th>\n      <td>2000.000000</td>\n      <td>2000.000000</td>\n      <td>2000.000000</td>\n      <td>2000.000000</td>\n      <td>2000.000000</td>\n      <td>2000.000000</td>\n      <td>2000.000000</td>\n      <td>2000.000000</td>\n      <td>2000.000000</td>\n      <td>2000.000000</td>\n      <td>...</td>\n      <td>2000.000000</td>\n      <td>2000.000000</td>\n      <td>2000.000000</td>\n      <td>2000.000000</td>\n      <td>2.000000e+03</td>\n      <td>2000.000000</td>\n      <td>2000.000000</td>\n      <td>2000.000000</td>\n      <td>2000.000000</td>\n      <td>2000.000000</td>\n    </tr>\n    <tr>\n      <th>mean</th>\n      <td>14950.749000</td>\n      <td>171825.000000</td>\n      <td>1.603000</td>\n      <td>1.853000</td>\n      <td>1.555000</td>\n      <td>35.458000</td>\n      <td>-0.024500</td>\n      <td>-0.138500</td>\n      <td>-0.179500</td>\n      <td>-0.213000</td>\n      <td>...</td>\n      <td>44390.095500</td>\n      <td>41502.586000</td>\n      <td>39643.917000</td>\n      <td>5153.111500</td>\n      <td>6.362411e+03</td>\n      <td>6096.214000</td>\n      <td>5091.073500</td>\n      <td>5043.292500</td>\n      <td>5738.555500</td>\n      <td>0.219500</td>\n    </tr>\n    <tr>\n      <th>std</th>\n      <td>8624.251173</td>\n      <td>131598.930521</td>\n      <td>0.489398</td>\n      <td>0.798567</td>\n      <td>0.516825</td>\n      <td>9.144892</td>\n      <td>1.103861</td>\n      <td>1.163613</td>\n      <td>1.177698</td>\n      <td>1.166753</td>\n      <td>...</td>\n      <td>65827.281839</td>\n      <td>61928.132672</td>\n      <td>60472.016246</td>\n      <td>13065.162427</td>\n      <td>4.014712e+04</td>\n      <td>21880.625777</td>\n      <td>16197.840731</td>\n      <td>16448.820691</td>\n      <td>21310.318739</td>\n      <td>0.414011</td>\n    </tr>\n    <tr>\n      <th>min</th>\n      <td>3.000000</td>\n      <td>10000.000000</td>\n      <td>1.000000</td>\n      <td>1.000000</td>\n      <td>0.000000</td>\n      <td>21.000000</td>\n      <td>-2.000000</td>\n      <td>-2.000000</td>\n      <td>-2.000000</td>\n      <td>-2.000000</td>\n      <td>...</td>\n      <td>-81334.000000</td>\n      <td>-15306.000000</td>\n      <td>-51443.000000</td>\n      <td>0.000000</td>\n      <td>0.000000e+00</td>\n      <td>0.000000</td>\n      <td>0.000000</td>\n      <td>0.000000</td>\n      <td>0.000000</td>\n      <td>0.000000</td>\n    </tr>\n    <tr>\n      <th>25%</th>\n      <td>7404.000000</td>\n      <td>60000.000000</td>\n      <td>1.000000</td>\n      <td>1.000000</td>\n      <td>1.000000</td>\n      <td>28.000000</td>\n      <td>-1.000000</td>\n      <td>-1.000000</td>\n      <td>-1.000000</td>\n      <td>-1.000000</td>\n      <td>...</td>\n      <td>2939.500000</td>\n      <td>2158.750000</td>\n      <td>1319.250000</td>\n      <td>1000.000000</td>\n      <td>9.947500e+02</td>\n      <td>445.500000</td>\n      <td>328.250000</td>\n      <td>260.250000</td>\n      <td>166.750000</td>\n      <td>0.000000</td>\n    </tr>\n    <tr>\n      <th>50%</th>\n      <td>14889.500000</td>\n      <td>140000.000000</td>\n      <td>2.000000</td>\n      <td>2.000000</td>\n      <td>2.000000</td>\n      <td>34.000000</td>\n      <td>0.000000</td>\n      <td>0.000000</td>\n      <td>0.000000</td>\n      <td>0.000000</td>\n      <td>...</td>\n      <td>19454.000000</td>\n      <td>18652.000000</td>\n      <td>17621.500000</td>\n      <td>2022.500000</td>\n      <td>2.031500e+03</td>\n      <td>1843.000000</td>\n      <td>1597.500000</td>\n      <td>1500.000000</td>\n      <td>1464.000000</td>\n      <td>0.000000</td>\n    </tr>\n    <tr>\n      <th>75%</th>\n      <td>22510.250000</td>\n      <td>250000.000000</td>\n      <td>2.000000</td>\n      <td>2.000000</td>\n      <td>2.000000</td>\n      <td>41.000000</td>\n      <td>0.000000</td>\n      <td>0.000000</td>\n      <td>0.000000</td>\n      <td>0.000000</td>\n      <td>...</td>\n      <td>53394.250000</td>\n      <td>51005.500000</td>\n      <td>49484.750000</td>\n      <td>5000.000000</td>\n      <td>5.000000e+03</td>\n      <td>5000.000000</td>\n      <td>4295.500000</td>\n      <td>4207.750000</td>\n      <td>4000.000000</td>\n      <td>0.000000</td>\n    </tr>\n    <tr>\n      <th>max</th>\n      <td>29993.000000</td>\n      <td>730000.000000</td>\n      <td>2.000000</td>\n      <td>6.000000</td>\n      <td>3.000000</td>\n      <td>71.000000</td>\n      <td>6.000000</td>\n      <td>5.000000</td>\n      <td>8.000000</td>\n      <td>7.000000</td>\n      <td>...</td>\n      <td>487066.000000</td>\n      <td>489200.000000</td>\n      <td>513798.000000</td>\n      <td>276698.000000</td>\n      <td>1.684259e+06</td>\n      <td>400972.000000</td>\n      <td>331788.000000</td>\n      <td>379267.000000</td>\n      <td>403500.000000</td>\n      <td>1.000000</td>\n    </tr>\n  </tbody>\n</table>\n<p>8 rows × 25 columns</p>\n</div>"
          },
          "metadata": {}
        }
      ]
    },
    {
      "metadata": {
        "trusted": true
      },
      "cell_type": "code",
      "source": "\ndataset.columns",
      "execution_count": 19,
      "outputs": [
        {
          "output_type": "execute_result",
          "execution_count": 19,
          "data": {
            "text/plain": "Index([u'ID', u'LIMIT_BAL', u'SEX', u'EDUCATION', u'MARRIAGE', u'AGE',\n       u'PAY_0', u'PAY_2', u'PAY_3', u'PAY_4', u'PAY_5', u'PAY_6',\n       u'BILL_AMT1', u'BILL_AMT2', u'BILL_AMT3', u'BILL_AMT4', u'BILL_AMT5',\n       u'BILL_AMT6', u'PAY_AMT1', u'PAY_AMT2', u'PAY_AMT3', u'PAY_AMT4',\n       u'PAY_AMT5', u'PAY_AMT6', u'default payment next month'],\n      dtype='object')"
          },
          "metadata": {}
        }
      ]
    },
    {
      "metadata": {
        "trusted": true
      },
      "cell_type": "code",
      "source": "dataset.head(3)",
      "execution_count": 20,
      "outputs": [
        {
          "output_type": "execute_result",
          "execution_count": 20,
          "data": {
            "text/plain": "          ID  LIMIT_BAL  SEX  EDUCATION  MARRIAGE  AGE  PAY_0  PAY_2  PAY_3  \\\n10747  10748     310000    1          3         1   32      0      0      0   \n12573  12574      10000    2          3         1   49     -1     -1     -2   \n29676  29677      50000    1          2         1   28     -1     -1     -1   \n\n       PAY_4             ...              BILL_AMT4  BILL_AMT5  BILL_AMT6  \\\n10747      0             ...                  84373      57779      14163   \n12573     -1             ...                   1690       1138        930   \n29676      0             ...                  45975       1300      43987   \n\n       PAY_AMT1  PAY_AMT2  PAY_AMT3  PAY_AMT4  PAY_AMT5  PAY_AMT6  \\\n10747      8295      6000      4000      3000      1000      2000   \n12573         0         0      2828         0       182         0   \n29676         0     46257      2200      1300     43987      1386   \n\n       default payment next month  \n10747                           0  \n12573                           1  \n29676                           0  \n\n[3 rows x 25 columns]",
            "text/html": "<div>\n<style scoped>\n    .dataframe tbody tr th:only-of-type {\n        vertical-align: middle;\n    }\n\n    .dataframe tbody tr th {\n        vertical-align: top;\n    }\n\n    .dataframe thead th {\n        text-align: right;\n    }\n</style>\n<table border=\"1\" class=\"dataframe\">\n  <thead>\n    <tr style=\"text-align: right;\">\n      <th></th>\n      <th>ID</th>\n      <th>LIMIT_BAL</th>\n      <th>SEX</th>\n      <th>EDUCATION</th>\n      <th>MARRIAGE</th>\n      <th>AGE</th>\n      <th>PAY_0</th>\n      <th>PAY_2</th>\n      <th>PAY_3</th>\n      <th>PAY_4</th>\n      <th>...</th>\n      <th>BILL_AMT4</th>\n      <th>BILL_AMT5</th>\n      <th>BILL_AMT6</th>\n      <th>PAY_AMT1</th>\n      <th>PAY_AMT2</th>\n      <th>PAY_AMT3</th>\n      <th>PAY_AMT4</th>\n      <th>PAY_AMT5</th>\n      <th>PAY_AMT6</th>\n      <th>default payment next month</th>\n    </tr>\n  </thead>\n  <tbody>\n    <tr>\n      <th>10747</th>\n      <td>10748</td>\n      <td>310000</td>\n      <td>1</td>\n      <td>3</td>\n      <td>1</td>\n      <td>32</td>\n      <td>0</td>\n      <td>0</td>\n      <td>0</td>\n      <td>0</td>\n      <td>...</td>\n      <td>84373</td>\n      <td>57779</td>\n      <td>14163</td>\n      <td>8295</td>\n      <td>6000</td>\n      <td>4000</td>\n      <td>3000</td>\n      <td>1000</td>\n      <td>2000</td>\n      <td>0</td>\n    </tr>\n    <tr>\n      <th>12573</th>\n      <td>12574</td>\n      <td>10000</td>\n      <td>2</td>\n      <td>3</td>\n      <td>1</td>\n      <td>49</td>\n      <td>-1</td>\n      <td>-1</td>\n      <td>-2</td>\n      <td>-1</td>\n      <td>...</td>\n      <td>1690</td>\n      <td>1138</td>\n      <td>930</td>\n      <td>0</td>\n      <td>0</td>\n      <td>2828</td>\n      <td>0</td>\n      <td>182</td>\n      <td>0</td>\n      <td>1</td>\n    </tr>\n    <tr>\n      <th>29676</th>\n      <td>29677</td>\n      <td>50000</td>\n      <td>1</td>\n      <td>2</td>\n      <td>1</td>\n      <td>28</td>\n      <td>-1</td>\n      <td>-1</td>\n      <td>-1</td>\n      <td>0</td>\n      <td>...</td>\n      <td>45975</td>\n      <td>1300</td>\n      <td>43987</td>\n      <td>0</td>\n      <td>46257</td>\n      <td>2200</td>\n      <td>1300</td>\n      <td>43987</td>\n      <td>1386</td>\n      <td>0</td>\n    </tr>\n  </tbody>\n</table>\n<p>3 rows × 25 columns</p>\n</div>"
          },
          "metadata": {}
        }
      ]
    },
    {
      "metadata": {
        "trusted": true
      },
      "cell_type": "code",
      "source": "dataset.drop('ID',axis=1,inplace=True)",
      "execution_count": 21,
      "outputs": []
    },
    {
      "metadata": {
        "trusted": true
      },
      "cell_type": "code",
      "source": "dataset.head(1)",
      "execution_count": 22,
      "outputs": [
        {
          "output_type": "execute_result",
          "execution_count": 22,
          "data": {
            "text/plain": "       LIMIT_BAL  SEX  EDUCATION  MARRIAGE  AGE  PAY_0  PAY_2  PAY_3  PAY_4  \\\n10747     310000    1          3         1   32      0      0      0      0   \n\n       PAY_5             ...              BILL_AMT4  BILL_AMT5  BILL_AMT6  \\\n10747      0             ...                  84373      57779      14163   \n\n       PAY_AMT1  PAY_AMT2  PAY_AMT3  PAY_AMT4  PAY_AMT5  PAY_AMT6  \\\n10747      8295      6000      4000      3000      1000      2000   \n\n       default payment next month  \n10747                           0  \n\n[1 rows x 24 columns]",
            "text/html": "<div>\n<style scoped>\n    .dataframe tbody tr th:only-of-type {\n        vertical-align: middle;\n    }\n\n    .dataframe tbody tr th {\n        vertical-align: top;\n    }\n\n    .dataframe thead th {\n        text-align: right;\n    }\n</style>\n<table border=\"1\" class=\"dataframe\">\n  <thead>\n    <tr style=\"text-align: right;\">\n      <th></th>\n      <th>LIMIT_BAL</th>\n      <th>SEX</th>\n      <th>EDUCATION</th>\n      <th>MARRIAGE</th>\n      <th>AGE</th>\n      <th>PAY_0</th>\n      <th>PAY_2</th>\n      <th>PAY_3</th>\n      <th>PAY_4</th>\n      <th>PAY_5</th>\n      <th>...</th>\n      <th>BILL_AMT4</th>\n      <th>BILL_AMT5</th>\n      <th>BILL_AMT6</th>\n      <th>PAY_AMT1</th>\n      <th>PAY_AMT2</th>\n      <th>PAY_AMT3</th>\n      <th>PAY_AMT4</th>\n      <th>PAY_AMT5</th>\n      <th>PAY_AMT6</th>\n      <th>default payment next month</th>\n    </tr>\n  </thead>\n  <tbody>\n    <tr>\n      <th>10747</th>\n      <td>310000</td>\n      <td>1</td>\n      <td>3</td>\n      <td>1</td>\n      <td>32</td>\n      <td>0</td>\n      <td>0</td>\n      <td>0</td>\n      <td>0</td>\n      <td>0</td>\n      <td>...</td>\n      <td>84373</td>\n      <td>57779</td>\n      <td>14163</td>\n      <td>8295</td>\n      <td>6000</td>\n      <td>4000</td>\n      <td>3000</td>\n      <td>1000</td>\n      <td>2000</td>\n      <td>0</td>\n    </tr>\n  </tbody>\n</table>\n<p>1 rows × 24 columns</p>\n</div>"
          },
          "metadata": {}
        }
      ]
    },
    {
      "metadata": {
        "trusted": true
      },
      "cell_type": "code",
      "source": "dataset.columns",
      "execution_count": 23,
      "outputs": [
        {
          "output_type": "execute_result",
          "execution_count": 23,
          "data": {
            "text/plain": "Index([u'LIMIT_BAL', u'SEX', u'EDUCATION', u'MARRIAGE', u'AGE', u'PAY_0',\n       u'PAY_2', u'PAY_3', u'PAY_4', u'PAY_5', u'PAY_6', u'BILL_AMT1',\n       u'BILL_AMT2', u'BILL_AMT3', u'BILL_AMT4', u'BILL_AMT5', u'BILL_AMT6',\n       u'PAY_AMT1', u'PAY_AMT2', u'PAY_AMT3', u'PAY_AMT4', u'PAY_AMT5',\n       u'PAY_AMT6', u'default payment next month'],\n      dtype='object')"
          },
          "metadata": {}
        }
      ]
    },
    {
      "metadata": {
        "trusted": true
      },
      "cell_type": "code",
      "source": "dataset.isnull().sum()",
      "execution_count": 24,
      "outputs": [
        {
          "output_type": "execute_result",
          "execution_count": 24,
          "data": {
            "text/plain": "LIMIT_BAL                     0\nSEX                           0\nEDUCATION                     0\nMARRIAGE                      0\nAGE                           0\nPAY_0                         0\nPAY_2                         0\nPAY_3                         0\nPAY_4                         0\nPAY_5                         0\nPAY_6                         0\nBILL_AMT1                     0\nBILL_AMT2                     0\nBILL_AMT3                     0\nBILL_AMT4                     0\nBILL_AMT5                     0\nBILL_AMT6                     0\nPAY_AMT1                      0\nPAY_AMT2                      0\nPAY_AMT3                      0\nPAY_AMT4                      0\nPAY_AMT5                      0\nPAY_AMT6                      0\ndefault payment next month    0\ndtype: int64"
          },
          "metadata": {}
        }
      ]
    },
    {
      "metadata": {
        "trusted": true
      },
      "cell_type": "code",
      "source": "dataset['SEX'].value_counts(dropna=False)",
      "execution_count": 25,
      "outputs": [
        {
          "output_type": "execute_result",
          "execution_count": 25,
          "data": {
            "text/plain": "2    1206\n1     794\nName: SEX, dtype: int64"
          },
          "metadata": {}
        }
      ]
    },
    {
      "metadata": {
        "trusted": true
      },
      "cell_type": "code",
      "source": "dataset['EDUCATION'].value_counts(dropna=False)",
      "execution_count": 26,
      "outputs": [
        {
          "output_type": "execute_result",
          "execution_count": 26,
          "data": {
            "text/plain": "2    925\n1    715\n3    325\n5     18\n4     13\n6      4\nName: EDUCATION, dtype: int64"
          },
          "metadata": {}
        }
      ]
    },
    {
      "metadata": {
        "trusted": true
      },
      "cell_type": "code",
      "source": "dataset = dataset.rename(columns={'default.payment.next.month': 'def_pay', \n                        'PAY_0': 'PAY_1'})\ndataset.head()",
      "execution_count": 27,
      "outputs": [
        {
          "output_type": "execute_result",
          "execution_count": 27,
          "data": {
            "text/plain": "       LIMIT_BAL  SEX  EDUCATION  MARRIAGE  AGE  PAY_1  PAY_2  PAY_3  PAY_4  \\\n10747     310000    1          3         1   32      0      0      0      0   \n12573      10000    2          3         1   49     -1     -1     -2     -1   \n29676      50000    1          2         1   28     -1     -1     -1      0   \n8856       80000    2          3         1   52      2      2      3      3   \n21098     270000    1          1         2   34      1      2      0      0   \n\n       PAY_5             ...              BILL_AMT4  BILL_AMT5  BILL_AMT6  \\\n10747      0             ...                  84373      57779      14163   \n12573      2             ...                   1690       1138        930   \n29676     -1             ...                  45975       1300      43987   \n8856       3             ...                  40748      39816      40607   \n21098      2             ...                  22448      15490      17343   \n\n       PAY_AMT1  PAY_AMT2  PAY_AMT3  PAY_AMT4  PAY_AMT5  PAY_AMT6  \\\n10747      8295      6000      4000      3000      1000      2000   \n12573         0         0      2828         0       182         0   \n29676         0     46257      2200      1300     43987      1386   \n8856       3700      1600      1600         0      1600      1600   \n21098         0      4000      2000         0      2000      2000   \n\n       default payment next month  \n10747                           0  \n12573                           1  \n29676                           0  \n8856                            1  \n21098                           0  \n\n[5 rows x 24 columns]",
            "text/html": "<div>\n<style scoped>\n    .dataframe tbody tr th:only-of-type {\n        vertical-align: middle;\n    }\n\n    .dataframe tbody tr th {\n        vertical-align: top;\n    }\n\n    .dataframe thead th {\n        text-align: right;\n    }\n</style>\n<table border=\"1\" class=\"dataframe\">\n  <thead>\n    <tr style=\"text-align: right;\">\n      <th></th>\n      <th>LIMIT_BAL</th>\n      <th>SEX</th>\n      <th>EDUCATION</th>\n      <th>MARRIAGE</th>\n      <th>AGE</th>\n      <th>PAY_1</th>\n      <th>PAY_2</th>\n      <th>PAY_3</th>\n      <th>PAY_4</th>\n      <th>PAY_5</th>\n      <th>...</th>\n      <th>BILL_AMT4</th>\n      <th>BILL_AMT5</th>\n      <th>BILL_AMT6</th>\n      <th>PAY_AMT1</th>\n      <th>PAY_AMT2</th>\n      <th>PAY_AMT3</th>\n      <th>PAY_AMT4</th>\n      <th>PAY_AMT5</th>\n      <th>PAY_AMT6</th>\n      <th>default payment next month</th>\n    </tr>\n  </thead>\n  <tbody>\n    <tr>\n      <th>10747</th>\n      <td>310000</td>\n      <td>1</td>\n      <td>3</td>\n      <td>1</td>\n      <td>32</td>\n      <td>0</td>\n      <td>0</td>\n      <td>0</td>\n      <td>0</td>\n      <td>0</td>\n      <td>...</td>\n      <td>84373</td>\n      <td>57779</td>\n      <td>14163</td>\n      <td>8295</td>\n      <td>6000</td>\n      <td>4000</td>\n      <td>3000</td>\n      <td>1000</td>\n      <td>2000</td>\n      <td>0</td>\n    </tr>\n    <tr>\n      <th>12573</th>\n      <td>10000</td>\n      <td>2</td>\n      <td>3</td>\n      <td>1</td>\n      <td>49</td>\n      <td>-1</td>\n      <td>-1</td>\n      <td>-2</td>\n      <td>-1</td>\n      <td>2</td>\n      <td>...</td>\n      <td>1690</td>\n      <td>1138</td>\n      <td>930</td>\n      <td>0</td>\n      <td>0</td>\n      <td>2828</td>\n      <td>0</td>\n      <td>182</td>\n      <td>0</td>\n      <td>1</td>\n    </tr>\n    <tr>\n      <th>29676</th>\n      <td>50000</td>\n      <td>1</td>\n      <td>2</td>\n      <td>1</td>\n      <td>28</td>\n      <td>-1</td>\n      <td>-1</td>\n      <td>-1</td>\n      <td>0</td>\n      <td>-1</td>\n      <td>...</td>\n      <td>45975</td>\n      <td>1300</td>\n      <td>43987</td>\n      <td>0</td>\n      <td>46257</td>\n      <td>2200</td>\n      <td>1300</td>\n      <td>43987</td>\n      <td>1386</td>\n      <td>0</td>\n    </tr>\n    <tr>\n      <th>8856</th>\n      <td>80000</td>\n      <td>2</td>\n      <td>3</td>\n      <td>1</td>\n      <td>52</td>\n      <td>2</td>\n      <td>2</td>\n      <td>3</td>\n      <td>3</td>\n      <td>3</td>\n      <td>...</td>\n      <td>40748</td>\n      <td>39816</td>\n      <td>40607</td>\n      <td>3700</td>\n      <td>1600</td>\n      <td>1600</td>\n      <td>0</td>\n      <td>1600</td>\n      <td>1600</td>\n      <td>1</td>\n    </tr>\n    <tr>\n      <th>21098</th>\n      <td>270000</td>\n      <td>1</td>\n      <td>1</td>\n      <td>2</td>\n      <td>34</td>\n      <td>1</td>\n      <td>2</td>\n      <td>0</td>\n      <td>0</td>\n      <td>2</td>\n      <td>...</td>\n      <td>22448</td>\n      <td>15490</td>\n      <td>17343</td>\n      <td>0</td>\n      <td>4000</td>\n      <td>2000</td>\n      <td>0</td>\n      <td>2000</td>\n      <td>2000</td>\n      <td>0</td>\n    </tr>\n  </tbody>\n</table>\n<p>5 rows × 24 columns</p>\n</div>"
          },
          "metadata": {}
        }
      ]
    },
    {
      "metadata": {
        "trusted": true
      },
      "cell_type": "code",
      "source": "dataset.columns",
      "execution_count": 28,
      "outputs": [
        {
          "output_type": "execute_result",
          "execution_count": 28,
          "data": {
            "text/plain": "Index([u'LIMIT_BAL', u'SEX', u'EDUCATION', u'MARRIAGE', u'AGE', u'PAY_1',\n       u'PAY_2', u'PAY_3', u'PAY_4', u'PAY_5', u'PAY_6', u'BILL_AMT1',\n       u'BILL_AMT2', u'BILL_AMT3', u'BILL_AMT4', u'BILL_AMT5', u'BILL_AMT6',\n       u'PAY_AMT1', u'PAY_AMT2', u'PAY_AMT3', u'PAY_AMT4', u'PAY_AMT5',\n       u'PAY_AMT6', u'default payment next month'],\n      dtype='object')"
          },
          "metadata": {}
        }
      ]
    },
    {
      "metadata": {
        "trusted": true
      },
      "cell_type": "code",
      "source": "plt.style.use('fivethirtyeight')\ndataset['SEX'].hist()\nplt.xlabel('SEX')\nplt.ylabel('COUNT')\nplt.title('SEX v/s COUNT')",
      "execution_count": 29,
      "outputs": [
        {
          "output_type": "execute_result",
          "execution_count": 29,
          "data": {
            "text/plain": "Text(0.5,1,'SEX v/s COUNT')"
          },
          "metadata": {}
        },
        {
          "output_type": "display_data",
          "data": {
            "image/png": "[encoded data removed]",
            "text/plain": "<Figure size 432x288 with 1 Axes>"
          },
          "metadata": {}
        }
      ]
    },
    {
      "metadata": {
        "trusted": true
      },
      "cell_type": "code",
      "source": "plt.style.use('fivethirtyeight')\ndataset['def_pay'].hist()\nplt.xlabel('DEFAULT_PAY')\nplt.ylabel('COUNT')\nplt.title('Default Credit Card Clients - target value - data unbalance\\n (Default = 0, Not Default = 1)')",
      "execution_count": 30,
      "outputs": [
        {
          "output_type": "error",
          "ename": "KeyError",
          "evalue": "'def_pay'",
          "traceback": [
            "\u001b[0;31m\u001b[0m",
            "\u001b[0;31mKeyError\u001b[0mTraceback (most recent call last)",
            "\u001b[0;32m<ipython-input-30-ff6ed35f2588>\u001b[0m in \u001b[0;36m<module>\u001b[0;34m()\u001b[0m\n\u001b[1;32m      1\u001b[0m \u001b[0mplt\u001b[0m\u001b[0;34m.\u001b[0m\u001b[0mstyle\u001b[0m\u001b[0;34m.\u001b[0m\u001b[0muse\u001b[0m\u001b[0;34m(\u001b[0m\u001b[0;34m'fivethirtyeight'\u001b[0m\u001b[0;34m)\u001b[0m\u001b[0;34m\u001b[0m\u001b[0m\n\u001b[0;32m----> 2\u001b[0;31m \u001b[0mdataset\u001b[0m\u001b[0;34m[\u001b[0m\u001b[0;34m'def_pay'\u001b[0m\u001b[0;34m]\u001b[0m\u001b[0;34m.\u001b[0m\u001b[0mhist\u001b[0m\u001b[0;34m(\u001b[0m\u001b[0;34m)\u001b[0m\u001b[0;34m\u001b[0m\u001b[0m\n\u001b[0m\u001b[1;32m      3\u001b[0m \u001b[0mplt\u001b[0m\u001b[0;34m.\u001b[0m\u001b[0mxlabel\u001b[0m\u001b[0;34m(\u001b[0m\u001b[0;34m'DEFAULT_PAY'\u001b[0m\u001b[0;34m)\u001b[0m\u001b[0;34m\u001b[0m\u001b[0m\n\u001b[1;32m      4\u001b[0m \u001b[0mplt\u001b[0m\u001b[0;34m.\u001b[0m\u001b[0mylabel\u001b[0m\u001b[0;34m(\u001b[0m\u001b[0;34m'COUNT'\u001b[0m\u001b[0;34m)\u001b[0m\u001b[0;34m\u001b[0m\u001b[0m\n\u001b[1;32m      5\u001b[0m \u001b[0mplt\u001b[0m\u001b[0;34m.\u001b[0m\u001b[0mtitle\u001b[0m\u001b[0;34m(\u001b[0m\u001b[0;34m'Default Credit Card Clients - target value - data unbalance\\n (Default = 0, Not Default = 1)'\u001b[0m\u001b[0;34m)\u001b[0m\u001b[0;34m\u001b[0m\u001b[0m\n",
            "\u001b[0;32m/home/nbuser/anaconda2_501/lib/python2.7/site-packages/pandas/core/frame.pyc\u001b[0m in \u001b[0;36m__getitem__\u001b[0;34m(self, key)\u001b[0m\n\u001b[1;32m   2686\u001b[0m             \u001b[0;32mreturn\u001b[0m \u001b[0mself\u001b[0m\u001b[0;34m.\u001b[0m\u001b[0m_getitem_multilevel\u001b[0m\u001b[0;34m(\u001b[0m\u001b[0mkey\u001b[0m\u001b[0;34m)\u001b[0m\u001b[0;34m\u001b[0m\u001b[0m\n\u001b[1;32m   2687\u001b[0m         \u001b[0;32melse\u001b[0m\u001b[0;34m:\u001b[0m\u001b[0;34m\u001b[0m\u001b[0m\n\u001b[0;32m-> 2688\u001b[0;31m             \u001b[0;32mreturn\u001b[0m \u001b[0mself\u001b[0m\u001b[0;34m.\u001b[0m\u001b[0m_getitem_column\u001b[0m\u001b[0;34m(\u001b[0m\u001b[0mkey\u001b[0m\u001b[0;34m)\u001b[0m\u001b[0;34m\u001b[0m\u001b[0m\n\u001b[0m\u001b[1;32m   2689\u001b[0m \u001b[0;34m\u001b[0m\u001b[0m\n\u001b[1;32m   2690\u001b[0m     \u001b[0;32mdef\u001b[0m \u001b[0m_getitem_column\u001b[0m\u001b[0;34m(\u001b[0m\u001b[0mself\u001b[0m\u001b[0;34m,\u001b[0m \u001b[0mkey\u001b[0m\u001b[0;34m)\u001b[0m\u001b[0;34m:\u001b[0m\u001b[0;34m\u001b[0m\u001b[0m\n",
            "\u001b[0;32m/home/nbuser/anaconda2_501/lib/python2.7/site-packages/pandas/core/frame.pyc\u001b[0m in \u001b[0;36m_getitem_column\u001b[0;34m(self, key)\u001b[0m\n\u001b[1;32m   2693\u001b[0m         \u001b[0;31m# get column\u001b[0m\u001b[0;34m\u001b[0m\u001b[0;34m\u001b[0m\u001b[0m\n\u001b[1;32m   2694\u001b[0m         \u001b[0;32mif\u001b[0m \u001b[0mself\u001b[0m\u001b[0;34m.\u001b[0m\u001b[0mcolumns\u001b[0m\u001b[0;34m.\u001b[0m\u001b[0mis_unique\u001b[0m\u001b[0;34m:\u001b[0m\u001b[0;34m\u001b[0m\u001b[0m\n\u001b[0;32m-> 2695\u001b[0;31m             \u001b[0;32mreturn\u001b[0m \u001b[0mself\u001b[0m\u001b[0;34m.\u001b[0m\u001b[0m_get_item_cache\u001b[0m\u001b[0;34m(\u001b[0m\u001b[0mkey\u001b[0m\u001b[0;34m)\u001b[0m\u001b[0;34m\u001b[0m\u001b[0m\n\u001b[0m\u001b[1;32m   2696\u001b[0m \u001b[0;34m\u001b[0m\u001b[0m\n\u001b[1;32m   2697\u001b[0m         \u001b[0;31m# duplicate columns & possible reduce dimensionality\u001b[0m\u001b[0;34m\u001b[0m\u001b[0;34m\u001b[0m\u001b[0m\n",
            "\u001b[0;32m/home/nbuser/anaconda2_501/lib/python2.7/site-packages/pandas/core/generic.pyc\u001b[0m in \u001b[0;36m_get_item_cache\u001b[0;34m(self, item)\u001b[0m\n\u001b[1;32m   2487\u001b[0m         \u001b[0mres\u001b[0m \u001b[0;34m=\u001b[0m \u001b[0mcache\u001b[0m\u001b[0;34m.\u001b[0m\u001b[0mget\u001b[0m\u001b[0;34m(\u001b[0m\u001b[0mitem\u001b[0m\u001b[0;34m)\u001b[0m\u001b[0;34m\u001b[0m\u001b[0m\n\u001b[1;32m   2488\u001b[0m         \u001b[0;32mif\u001b[0m \u001b[0mres\u001b[0m \u001b[0;32mis\u001b[0m \u001b[0mNone\u001b[0m\u001b[0;34m:\u001b[0m\u001b[0;34m\u001b[0m\u001b[0m\n\u001b[0;32m-> 2489\u001b[0;31m             \u001b[0mvalues\u001b[0m \u001b[0;34m=\u001b[0m \u001b[0mself\u001b[0m\u001b[0;34m.\u001b[0m\u001b[0m_data\u001b[0m\u001b[0;34m.\u001b[0m\u001b[0mget\u001b[0m\u001b[0;34m(\u001b[0m\u001b[0mitem\u001b[0m\u001b[0;34m)\u001b[0m\u001b[0;34m\u001b[0m\u001b[0m\n\u001b[0m\u001b[1;32m   2490\u001b[0m             \u001b[0mres\u001b[0m \u001b[0;34m=\u001b[0m \u001b[0mself\u001b[0m\u001b[0;34m.\u001b[0m\u001b[0m_box_item_values\u001b[0m\u001b[0;34m(\u001b[0m\u001b[0mitem\u001b[0m\u001b[0;34m,\u001b[0m \u001b[0mvalues\u001b[0m\u001b[0;34m)\u001b[0m\u001b[0;34m\u001b[0m\u001b[0m\n\u001b[1;32m   2491\u001b[0m             \u001b[0mcache\u001b[0m\u001b[0;34m[\u001b[0m\u001b[0mitem\u001b[0m\u001b[0;34m]\u001b[0m \u001b[0;34m=\u001b[0m \u001b[0mres\u001b[0m\u001b[0;34m\u001b[0m\u001b[0m\n",
            "\u001b[0;32m/home/nbuser/anaconda2_501/lib/python2.7/site-packages/pandas/core/internals.pyc\u001b[0m in \u001b[0;36mget\u001b[0;34m(self, item, fastpath)\u001b[0m\n\u001b[1;32m   4113\u001b[0m \u001b[0;34m\u001b[0m\u001b[0m\n\u001b[1;32m   4114\u001b[0m             \u001b[0;32mif\u001b[0m \u001b[0;32mnot\u001b[0m \u001b[0misna\u001b[0m\u001b[0;34m(\u001b[0m\u001b[0mitem\u001b[0m\u001b[0;34m)\u001b[0m\u001b[0;34m:\u001b[0m\u001b[0;34m\u001b[0m\u001b[0m\n\u001b[0;32m-> 4115\u001b[0;31m                 \u001b[0mloc\u001b[0m \u001b[0;34m=\u001b[0m \u001b[0mself\u001b[0m\u001b[0;34m.\u001b[0m\u001b[0mitems\u001b[0m\u001b[0;34m.\u001b[0m\u001b[0mget_loc\u001b[0m\u001b[0;34m(\u001b[0m\u001b[0mitem\u001b[0m\u001b[0;34m)\u001b[0m\u001b[0;34m\u001b[0m\u001b[0m\n\u001b[0m\u001b[1;32m   4116\u001b[0m             \u001b[0;32melse\u001b[0m\u001b[0;34m:\u001b[0m\u001b[0;34m\u001b[0m\u001b[0m\n\u001b[1;32m   4117\u001b[0m                 \u001b[0mindexer\u001b[0m \u001b[0;34m=\u001b[0m \u001b[0mnp\u001b[0m\u001b[0;34m.\u001b[0m\u001b[0marange\u001b[0m\u001b[0;34m(\u001b[0m\u001b[0mlen\u001b[0m\u001b[0;34m(\u001b[0m\u001b[0mself\u001b[0m\u001b[0;34m.\u001b[0m\u001b[0mitems\u001b[0m\u001b[0;34m)\u001b[0m\u001b[0;34m)\u001b[0m\u001b[0;34m[\u001b[0m\u001b[0misna\u001b[0m\u001b[0;34m(\u001b[0m\u001b[0mself\u001b[0m\u001b[0;34m.\u001b[0m\u001b[0mitems\u001b[0m\u001b[0;34m)\u001b[0m\u001b[0;34m]\u001b[0m\u001b[0;34m\u001b[0m\u001b[0m\n",
            "\u001b[0;32m/home/nbuser/anaconda2_501/lib/python2.7/site-packages/pandas/core/indexes/base.pyc\u001b[0m in \u001b[0;36mget_loc\u001b[0;34m(self, key, method, tolerance)\u001b[0m\n\u001b[1;32m   3078\u001b[0m                 \u001b[0;32mreturn\u001b[0m \u001b[0mself\u001b[0m\u001b[0;34m.\u001b[0m\u001b[0m_engine\u001b[0m\u001b[0;34m.\u001b[0m\u001b[0mget_loc\u001b[0m\u001b[0;34m(\u001b[0m\u001b[0mkey\u001b[0m\u001b[0;34m)\u001b[0m\u001b[0;34m\u001b[0m\u001b[0m\n\u001b[1;32m   3079\u001b[0m             \u001b[0;32mexcept\u001b[0m \u001b[0mKeyError\u001b[0m\u001b[0;34m:\u001b[0m\u001b[0;34m\u001b[0m\u001b[0m\n\u001b[0;32m-> 3080\u001b[0;31m                 \u001b[0;32mreturn\u001b[0m \u001b[0mself\u001b[0m\u001b[0;34m.\u001b[0m\u001b[0m_engine\u001b[0m\u001b[0;34m.\u001b[0m\u001b[0mget_loc\u001b[0m\u001b[0;34m(\u001b[0m\u001b[0mself\u001b[0m\u001b[0;34m.\u001b[0m\u001b[0m_maybe_cast_indexer\u001b[0m\u001b[0;34m(\u001b[0m\u001b[0mkey\u001b[0m\u001b[0;34m)\u001b[0m\u001b[0;34m)\u001b[0m\u001b[0;34m\u001b[0m\u001b[0m\n\u001b[0m\u001b[1;32m   3081\u001b[0m \u001b[0;34m\u001b[0m\u001b[0m\n\u001b[1;32m   3082\u001b[0m         \u001b[0mindexer\u001b[0m \u001b[0;34m=\u001b[0m \u001b[0mself\u001b[0m\u001b[0;34m.\u001b[0m\u001b[0mget_indexer\u001b[0m\u001b[0;34m(\u001b[0m\u001b[0;34m[\u001b[0m\u001b[0mkey\u001b[0m\u001b[0;34m]\u001b[0m\u001b[0;34m,\u001b[0m \u001b[0mmethod\u001b[0m\u001b[0;34m=\u001b[0m\u001b[0mmethod\u001b[0m\u001b[0;34m,\u001b[0m \u001b[0mtolerance\u001b[0m\u001b[0;34m=\u001b[0m\u001b[0mtolerance\u001b[0m\u001b[0;34m)\u001b[0m\u001b[0;34m\u001b[0m\u001b[0m\n",
            "\u001b[0;32mpandas/_libs/index.pyx\u001b[0m in \u001b[0;36mpandas._libs.index.IndexEngine.get_loc\u001b[0;34m()\u001b[0m\n",
            "\u001b[0;32mpandas/_libs/index.pyx\u001b[0m in \u001b[0;36mpandas._libs.index.IndexEngine.get_loc\u001b[0;34m()\u001b[0m\n",
            "\u001b[0;32mpandas/_libs/hashtable_class_helper.pxi\u001b[0m in \u001b[0;36mpandas._libs.hashtable.PyObjectHashTable.get_item\u001b[0;34m()\u001b[0m\n",
            "\u001b[0;32mpandas/_libs/hashtable_class_helper.pxi\u001b[0m in \u001b[0;36mpandas._libs.hashtable.PyObjectHashTable.get_item\u001b[0;34m()\u001b[0m\n",
            "\u001b[0;31mKeyError\u001b[0m: 'def_pay'"
          ]
        }
      ]
    },
    {
      "metadata": {
        "trusted": true
      },
      "cell_type": "code",
      "source": "plt.style.use('fivethirtyeight')\ndataset['EDUCATION'].hist()\nplt.xlabel('EDUCATION')\nplt.ylabel('COUNT')\nplt.title('EDUCATION v/s COUNT')",
      "execution_count": null,
      "outputs": []
    },
    {
      "metadata": {
        "trusted": true
      },
      "cell_type": "code",
      "source": "plt.style.use('fivethirtyeight')\ndataset['MARRIAGE'].hist()\nplt.xlabel('MARRIAGE')\nplt.ylabel('COUNT')\nplt.title('MARRIAGE v/s COUNT')",
      "execution_count": null,
      "outputs": []
    },
    {
      "metadata": {
        "trusted": true
      },
      "cell_type": "code",
      "source": "sns.barplot(x='SEX',y='LIMIT_BAL',data=dataset,hue='SEX')",
      "execution_count": null,
      "outputs": []
    },
    {
      "metadata": {
        "trusted": true
      },
      "cell_type": "code",
      "source": "sns.countplot(x='SEX',data=dataset,hue = 'SEX')",
      "execution_count": null,
      "outputs": []
    },
    {
      "metadata": {
        "trusted": true
      },
      "cell_type": "code",
      "source": "# Checking the number of counts of defaulters and non defaulters sexwise\n\n\nsns.countplot(x='SEX', data=dataset,hue=\"def_pay\", palette=\"muted\")",
      "execution_count": null,
      "outputs": []
    },
    {
      "metadata": {
        "trusted": true
      },
      "cell_type": "code",
      "source": "g=sns.countplot(x=\"MARRIAGE\", data=dataset,hue=\"def_pay\", palette=\"muted\")",
      "execution_count": null,
      "outputs": []
    },
    {
      "metadata": {
        "trusted": true
      },
      "cell_type": "code",
      "source": "g=sns.countplot(x=\"EDUCATION\", data=dataset,hue=\"def_pay\", palette=\"muted\")",
      "execution_count": null,
      "outputs": []
    },
    {
      "metadata": {
        "trusted": true
      },
      "cell_type": "code",
      "source": "def getColumnsNames(prefix):\n    return [prefix+str(x) for x in range(1,7)]",
      "execution_count": null,
      "outputs": []
    },
    {
      "metadata": {
        "trusted": true
      },
      "cell_type": "code",
      "source": "# PAY_1 , PAY_2 , PAY_3 , PAY_4 , PAY_5, PAY_6\npay_status_columns = getColumnsNames('PAY_')\nfigure, ax = plt.subplots(2,3)\nfigure.set_size_inches(18,8)\n\n\nfor i in range(len(pay_status_columns)):\n    row,col = int(i/3), i%3\n\n    d  = dataset[pay_status_columns[i]].value_counts()\n    x = dataset[pay_status_columns[i]][(dataset['def_pay']==1)].value_counts()\n    ax[row,col].bar(d.index, d, align='center', color='red')\n    ax[row,col].bar(x.index, x, align='center', color='yellow', alpha=0.7)\n    ax[row,col].set_title(pay_status_columns[i])\n   \n\n\n    \nplt.show()\n",
      "execution_count": null,
      "outputs": []
    },
    {
      "metadata": {
        "trusted": true
      },
      "cell_type": "code",
      "source": "pay_amt_columns = getColumnsNames('PAY_AMT')\nfigure, ax = plt.subplots(3,2)\nfigure.set_size_inches(18,8)\n\n\nfor i in range(len(pay_status_columns)):\n    row,col =  i%3, int(i/3)\n   \n    ax[row,col].hist(dataset[pay_amt_columns[i]], 30, color ='red')\n    ax[row,col].hist(dataset[pay_amt_columns[i]][(dataset['def_pay']==1)],30,color='yellow',alpha = 0.7)\n    ax[row,col].set_title(pay_amt_columns[i])\n    #adding scaling to make the graph more helpful\n    ax[row,col].set_yscale('log', nonposy='clip')\nplt.tight_layout()\nplt.show()\n",
      "execution_count": null,
      "outputs": []
    },
    {
      "metadata": {
        "trusted": true
      },
      "cell_type": "code",
      "source": "bill_atm_columns =  getColumnsNames('BILL_AMT')\nfigure, ax = plt.subplots(3,2)\nfigure.set_size_inches(10,10)\n\n\nfor i in range(len(pay_status_columns)):\n    row,col =  i%3, int(i/3)\n   \n    ax[row,col].hist(dataset[bill_atm_columns[i]], 20,rwidth=0.9, color ='red')\n    ax[row,col].hist(dataset[bill_atm_columns[i]][(dataset['def_pay']==1)],20,rwidth=0.9,color='yellow',alpha = 0.7)\n    ax[row,col].set_title(bill_atm_columns[i])\n    #adding scaling to make the graph more helpful\n    ax[row,col].set_yscale('log', nonposy='clip')\nplt.tight_layout()\nplt.show()",
      "execution_count": null,
      "outputs": []
    },
    {
      "metadata": {
        "trusted": true
      },
      "cell_type": "code",
      "source": "sns.boxplot(x='def_pay',y='AGE',data=dataset,palette='rainbow')",
      "execution_count": null,
      "outputs": []
    },
    {
      "metadata": {
        "trusted": true
      },
      "cell_type": "code",
      "source": "sns.boxplot(x='def_pay',hue='MARRIAGE', y='AGE',data=dataset,palette=\"rainbow\")",
      "execution_count": null,
      "outputs": []
    },
    {
      "metadata": {
        "trusted": true
      },
      "cell_type": "code",
      "source": "sns.boxplot(x='def_pay',hue='EDUCATION', y='AGE',data=dataset,palette=\"rainbow\" )",
      "execution_count": null,
      "outputs": []
    },
    {
      "metadata": {
        "trusted": true
      },
      "cell_type": "code",
      "source": "sns.boxplot(x='SEX',hue='def_pay', y='LIMIT_BAL',data=dataset,palette=\"rainbow\")",
      "execution_count": null,
      "outputs": []
    },
    {
      "metadata": {
        "trusted": true
      },
      "cell_type": "code",
      "source": "sns.boxplot(x='EDUCATION',hue='def_pay', y='LIMIT_BAL',data=dataset,palette=\"rainbow\")",
      "execution_count": null,
      "outputs": []
    },
    {
      "metadata": {
        "trusted": true
      },
      "cell_type": "code",
      "source": "sns.boxplot(x='MARRIAGE',hue='def_pay', y='LIMIT_BAL',data=dataset,palette=\"rainbow\")",
      "execution_count": null,
      "outputs": []
    },
    {
      "metadata": {
        "trusted": true
      },
      "cell_type": "code",
      "source": "sns.distplot(dataset['LIMIT_BAL'],kde=True,bins=30)",
      "execution_count": null,
      "outputs": []
    },
    {
      "metadata": {
        "trusted": true
      },
      "cell_type": "code",
      "source": "# plot columns with similar names to check the correlation\n\nsns.pairplot(dataset, vars=dataset.columns[11:17], kind='scatter',hue= 'def_pay')\nsns.pairplot(dataset, vars=dataset.columns[17:23],hue = 'def_pay')",
      "execution_count": null,
      "outputs": []
    },
    {
      "metadata": {
        "trusted": true
      },
      "cell_type": "code",
      "source": "correlation = dataset.corr()",
      "execution_count": null,
      "outputs": []
    },
    {
      "metadata": {
        "trusted": true
      },
      "cell_type": "code",
      "source": "plt.subplots(figsize=(30,10))\nsns.heatmap( correlation, square=True, annot=True, fmt=\".1f\" )",
      "execution_count": null,
      "outputs": []
    },
    {
      "metadata": {
        "trusted": true
      },
      "cell_type": "code",
      "source": "X = dataset.drop(['def_pay'],axis=1)\nX.corrwith(dataset['def_pay']).plot.bar(figsize = (20, 10), title = \"Correlation with Default\", \n                                        fontsize = 20,rot = 90, grid = True)",
      "execution_count": null,
      "outputs": []
    },
    {
      "metadata": {
        "trusted": true
      },
      "cell_type": "code",
      "source": "sns.jointplot(x='LIMIT_BAL',y='AGE',data=dataset,kind=\"scatter\")",
      "execution_count": null,
      "outputs": []
    },
    {
      "metadata": {
        "trusted": true
      },
      "cell_type": "code",
      "source": "g = sns.FacetGrid(dataset, col = 'def_pay', row = 'SEX')\ng.map(plt.hist, 'AGE')",
      "execution_count": null,
      "outputs": []
    },
    {
      "metadata": {
        "trusted": true
      },
      "cell_type": "code",
      "source": "g = sns.FacetGrid(dataset, col='SEX', hue='def_pay')\ng.map(plt.hist, 'AGE', alpha=0.6, bins=25) #alpha is for opacity\ng.add_legend()",
      "execution_count": null,
      "outputs": []
    },
    {
      "metadata": {
        "trusted": true
      },
      "cell_type": "code",
      "source": "g = sns.FacetGrid(dataset, col='def_pay', row= \"MARRIAGE\", hue='SEX')\ng.map(plt.hist, 'AGE', alpha=0.3, bins=25) \ng.add_legend()",
      "execution_count": null,
      "outputs": []
    },
    {
      "metadata": {
        "trusted": true
      },
      "cell_type": "code",
      "source": "fil = (dataset.EDUCATION == 5) | (dataset.EDUCATION == 6) | (dataset.EDUCATION == 0)\ndataset.loc[fil, 'EDUCATION'] = 4\ndataset.EDUCATION.value_counts()",
      "execution_count": null,
      "outputs": []
    },
    {
      "metadata": {
        "trusted": true
      },
      "cell_type": "code",
      "source": "dataset['EDUCATION'].value_counts(dropna = False)",
      "execution_count": null,
      "outputs": []
    },
    {
      "metadata": {
        "trusted": true
      },
      "cell_type": "code",
      "source": "dataset.loc[dataset.MARRIAGE == 0, 'MARRIAGE'] = 3\ndataset.MARRIAGE.value_counts()",
      "execution_count": null,
      "outputs": []
    },
    {
      "metadata": {
        "trusted": true
      },
      "cell_type": "code",
      "source": "\ndataset.head()",
      "execution_count": null,
      "outputs": []
    },
    {
      "metadata": {
        "trusted": true
      },
      "cell_type": "code",
      "source": "dataset.tail()",
      "execution_count": null,
      "outputs": []
    },
    {
      "metadata": {
        "trusted": true
      },
      "cell_type": "code",
      "source": "il = (dataset.PAY_1 == -1) | (dataset.PAY_1==-2)\ndataset.loc[fil,'PAY_1']=0\ndataset.PAY_1.value_counts()\nfil = (dataset.PAY_2 == -1) | (dataset.PAY_2==-2)\ndataset.loc[fil,'PAY_2']=0\ndataset.PAY_2.value_counts()\nfil = (dataset.PAY_3 == -1) | (dataset.PAY_3==-2)\ndataset.loc[fil,'PAY_3']=0\ndataset.PAY_3.value_counts()\nfil = (dataset.PAY_4 == -1) | (dataset.PAY_4==-2)\ndataset.loc[fil,'PAY_4']=0\ndataset.PAY_4.value_counts()\nfil = (dataset.PAY_5 == -1) | (dataset.PAY_5==-2)\ndataset.loc[fil,'PAY_5']=0\ndataset.PAY_5.value_counts()\nfil = (dataset.PAY_6 == -1) | (dataset.PAY_6==-2)\ndataset.loc[fil,'PAY_6']=0\ndataset.PAY_6.value_counts()",
      "execution_count": null,
      "outputs": []
    },
    {
      "metadata": {
        "trusted": true
      },
      "cell_type": "code",
      "source": "dataset.head()",
      "execution_count": null,
      "outputs": []
    },
    {
      "metadata": {
        "trusted": true
      },
      "cell_type": "code",
      "source": "dataset.tail()",
      "execution_count": null,
      "outputs": []
    },
    {
      "metadata": {
        "trusted": true
      },
      "cell_type": "code",
      "source": "dataset.plot(y = 'PAY_1',kind='hist')\nplt.legend()\nplt.show()",
      "execution_count": null,
      "outputs": []
    },
    {
      "metadata": {
        "trusted": true
      },
      "cell_type": "code",
      "source": "dataset['PAY_1'].describe()\n",
      "execution_count": null,
      "outputs": []
    },
    {
      "metadata": {
        "trusted": true
      },
      "cell_type": "code",
      "source": "dataset.info()",
      "execution_count": null,
      "outputs": []
    },
    {
      "metadata": {
        "trusted": true
      },
      "cell_type": "code",
      "source": "dataset.SEX.nunique()",
      "execution_count": null,
      "outputs": []
    },
    {
      "metadata": {
        "trusted": true
      },
      "cell_type": "code",
      "source": "dataset[['PAY_AMT1', 'PAY_AMT2', 'PAY_AMT3', 'PAY_AMT4', 'PAY_AMT5', 'PAY_AMT6']].describe()",
      "execution_count": null,
      "outputs": []
    },
    {
      "metadata": {
        "trusted": true
      },
      "cell_type": "code",
      "source": "dataset[['PAY_AMT1', 'PAY_AMT2', 'PAY_AMT3', 'PAY_AMT4', 'PAY_AMT5', 'PAY_AMT6']].describe()",
      "execution_count": null,
      "outputs": []
    },
    {
      "metadata": {
        "trusted": true
      },
      "cell_type": "code",
      "source": "dataset.columns",
      "execution_count": null,
      "outputs": []
    },
    {
      "metadata": {
        "trusted": true
      },
      "cell_type": "code",
      "source": "                   #'PAY_5','PAY_6']\n#dataset[categorical_vars] = dataset[categorical_vars].astype(str)\n#dataset = pd.get_dummies(dataset,columns=categorical_vars,drop_first=True)\n#dataset.head()\ndataset.shape",
      "execution_count": null,
      "outputs": []
    },
    {
      "metadata": {
        "trusted": true
      },
      "cell_type": "code",
      "source": "dataset.columns = dataset.columns.map(str.lower)\ndataset.head()",
      "execution_count": null,
      "outputs": []
    },
    {
      "metadata": {
        "trusted": true
      },
      "cell_type": "code",
      "source": "col_to_norm = ['limit_bal', 'age', 'bill_amt1', 'bill_amt2', 'bill_amt3', 'bill_amt4',\n       'bill_amt5', 'bill_amt6', 'pay_amt1', 'pay_amt2', 'pay_amt3',\n       'pay_amt4', 'pay_amt5', 'pay_amt6']\ndataset[col_to_norm] = dataset[col_to_norm].apply(lambda x : (x-np.mean(x))/np.std(x))",
      "execution_count": null,
      "outputs": []
    },
    {
      "metadata": {
        "trusted": true
      },
      "cell_type": "code",
      "source": "dataset.head(10)",
      "execution_count": null,
      "outputs": []
    },
    {
      "metadata": {
        "trusted": true
      },
      "cell_type": "code",
      "source": "dataset.tail(10)",
      "execution_count": null,
      "outputs": []
    },
    {
      "metadata": {
        "trusted": true
      },
      "cell_type": "code",
      "source": "X = dataset.iloc[:,:-1].values\ny = dataset.iloc[:,-1].values\n\nfrom sklearn.cross_validation import train_test_split\nX_train,X_test,y_train,y_test = train_test_split(X,y,test_size = 0.3,random_state = 1)",
      "execution_count": null,
      "outputs": []
    },
    {
      "metadata": {
        "trusted": true
      },
      "cell_type": "code",
      "source": "X_train.shape",
      "execution_count": null,
      "outputs": []
    },
    {
      "metadata": {
        "trusted": true
      },
      "cell_type": "code",
      "source": "X_test.shape",
      "execution_count": null,
      "outputs": []
    },
    {
      "metadata": {
        "trusted": true
      },
      "cell_type": "code",
      "source": "from sklearn.linear_model import LogisticRegression\nlogmodel = LogisticRegression(random_state=1)\nlogmodel.fit(X_train,y_train)",
      "execution_count": null,
      "outputs": []
    },
    {
      "metadata": {
        "trusted": true
      },
      "cell_type": "code",
      "source": "y_pred = logmodel.predict(X_test)",
      "execution_count": null,
      "outputs": []
    },
    {
      "metadata": {
        "trusted": true
      },
      "cell_type": "code",
      "source": "from sklearn.metrics import  accuracy_score, f1_score, precision_score, recall_score, roc_auc_score\nroc=roc_auc_score(y_test, y_pred)\nacc = accuracy_score(y_test, y_pred)\nprec = precision_score(y_test, y_pred)\nrec = recall_score(y_test, y_pred)\nf1 = f1_score(y_test, y_pred)\n\nresults = pd.DataFrame([['Logistic Regression', acc,prec,rec, f1,roc]],\n               columns = ['Model', 'Accuracy', 'Precision', 'Recall', 'F1 Score','ROC'])\nresults",
      "execution_count": null,
      "outputs": []
    },
    {
      "metadata": {
        "trusted": true
      },
      "cell_type": "code",
      "source": "from sklearn.linear_model import SGDClassifier\nsgd = SGDClassifier(loss='log', penalty='l1', learning_rate='optimal',random_state=1)\nsgd.fit(X_train, y_train)",
      "execution_count": null,
      "outputs": []
    },
    {
      "metadata": {
        "trusted": true
      },
      "cell_type": "code",
      "source": "y_pred = sgd.predict(X_test)\nfrom sklearn.metrics import  accuracy_score, f1_score, precision_score, recall_score, roc_auc_score\nroc=roc_auc_score(y_test, y_pred)\nacc = accuracy_score(y_test, y_pred)\nprec = precision_score(y_test, y_pred)\nrec = recall_score(y_test, y_pred)\nf1 = f1_score(y_test, y_pred)\n\nmodel = pd.DataFrame([['Stochastic Gradient Descent', acc,prec,rec, f1,roc]],\n               columns = ['Model', 'Accuracy', 'Precision', 'Recall', 'F1 Score','ROC'])\nmodel",
      "execution_count": null,
      "outputs": []
    },
    {
      "metadata": {
        "trusted": true
      },
      "cell_type": "code",
      "source": "from sklearn.neighbors import KNeighborsClassifier",
      "execution_count": null,
      "outputs": []
    },
    {
      "metadata": {
        "trusted": true
      },
      "cell_type": "code",
      "source": "error_rate = []\n\n# Will take some time\nfor i in range(1,40):\n    \n    knn = KNeighborsClassifier(n_neighbors=i,n_jobs=-1)\n    knn.fit(X_train,y_train)\n    pred_i = knn.predict(X_test)\n    error_rate.append(np.mean(pred_i != y_test))",
      "execution_count": null,
      "outputs": []
    },
    {
      "metadata": {
        "trusted": true
      },
      "cell_type": "code",
      "source": "plt.figure(figsize=(10,6))\nplt.plot(range(1,40),error_rate,color='blue', linestyle='dashed', marker='o',\n         markerfacecolor='red', markersize=10)\nplt.title('Error Rate vs. K Value')\nplt.xlabel('K')\nplt.ylabel('Error Rate')",
      "execution_count": null,
      "outputs": []
    },
    {
      "metadata": {
        "trusted": true
      },
      "cell_type": "code",
      "source": "from sklearn.neighbors import KNeighborsClassifier\nknn = KNeighborsClassifier(n_neighbors=7)",
      "execution_count": null,
      "outputs": []
    },
    {
      "metadata": {
        "trusted": true
      },
      "cell_type": "code",
      "source": "knn.fit(X_train,y_train)",
      "execution_count": null,
      "outputs": []
    },
    {
      "metadata": {
        "trusted": true
      },
      "cell_type": "code",
      "source": "y_pred = knn.predict(X_test)",
      "execution_count": null,
      "outputs": []
    },
    {
      "metadata": {
        "trusted": true
      },
      "cell_type": "code",
      "source": "from sklearn.metrics import  accuracy_score, f1_score, precision_score, recall_score, roc_auc_score\nroc=roc_auc_score(y_test, y_pred)\nacc = accuracy_score(y_test, y_pred)\nprec = precision_score(y_test, y_pred)\nrec = recall_score(y_test, y_pred)\nf1 = f1_score(y_test, y_pred)\n\nres = pd.DataFrame([['K-Nearest Neighbour', acc,prec,rec, f1,roc]],\n               columns = ['Model', 'Accuracy', 'Precision', 'Recall', 'F1 Score','ROC'])\nres",
      "execution_count": null,
      "outputs": []
    },
    {
      "metadata": {
        "trusted": true
      },
      "cell_type": "code",
      "source": "from sklearn.tree import DecisionTreeClassifier\ndct = DecisionTreeClassifier(criterion = 'entropy',random_state = 0)",
      "execution_count": null,
      "outputs": []
    },
    {
      "metadata": {
        "trusted": true
      },
      "cell_type": "code",
      "source": "dct.fit(X_train,y_train)",
      "execution_count": null,
      "outputs": []
    },
    {
      "metadata": {
        "trusted": true
      },
      "cell_type": "code",
      "source": "y_pred = dct.predict(X_test)",
      "execution_count": null,
      "outputs": []
    },
    {
      "metadata": {
        "trusted": true
      },
      "cell_type": "code",
      "source": "from sklearn.metrics import confusion_matrix\ncm = confusion_matrix(y_test, y_pred)",
      "execution_count": null,
      "outputs": []
    },
    {
      "metadata": {
        "trusted": true
      },
      "cell_type": "code",
      "source": "cm",
      "execution_count": null,
      "outputs": []
    },
    {
      "metadata": {
        "trusted": true
      },
      "cell_type": "code",
      "source": "",
      "execution_count": null,
      "outputs": []
    },
    {
      "metadata": {
        "trusted": true
      },
      "cell_type": "code",
      "source": "rom sklearn.metrics import  accuracy_score, f1_score, precision_score, recall_score, roc_auc_score\nroc=roc_auc_score(y_test, y_pred)\nacc = accuracy_score(y_test, y_pred)\nprec = precision_score(y_test, y_pred)\nrec = recall_score(y_test, y_pred)\nf1 = f1_score(y_test, y_pred)\n\nmodel = pd.DataFrame([['Decision Tree Classifier', acc,prec,rec, f1,roc]],\n               columns = ['Model', 'Accuracy', 'Precision', 'Recall', 'F1 Score','ROC'])\nmodel",
      "execution_count": null,
      "outputs": []
    },
    {
      "metadata": {
        "trusted": true
      },
      "cell_type": "code",
      "source": "",
      "execution_count": null,
      "outputs": []
    },
    {
      "metadata": {
        "trusted": true
      },
      "cell_type": "code",
      "source": "",
      "execution_count": null,
      "outputs": []
    }
  ],
  "metadata": {
    "kernelspec": {
      "name": "python2",
      "display_name": "Python 2",
      "language": "python"
    },
    "language_info": {
      "mimetype": "text/x-python",
      "nbconvert_exporter": "python",
      "name": "python",
      "pygments_lexer": "ipython2",
      "version": "2.7.15",
      "file_extension": ".py",
      "codemirror_mode": {
        "version": 2,
        "name": "ipython"
      }
    }
  },
  "nbformat": 4,
  "nbformat_minor": 2
}